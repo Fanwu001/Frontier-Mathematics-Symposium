{
 "cells": [
  {
   "cell_type": "markdown",
   "metadata": {},
   "source": [
    "# Python Machine Learning - decision_tree"
   ]
  },
  {
   "cell_type": "code",
   "execution_count": 1,
   "metadata": {},
   "outputs": [
    {
     "name": "stdout",
     "output_type": "stream",
     "text": [
      "Sebastian Raschka \n",
      "last updated: 2020-11-06 \n",
      "\n",
      "numpy 1.18.5\n",
      "pandas 1.0.5\n",
      "matplotlib 3.2.2\n",
      "sklearn 0.23.1\n"
     ]
    }
   ],
   "source": [
    "%load_ext watermark\n",
    "%watermark -a \"Sebastian Raschka\" -u -d -p numpy,pandas,matplotlib,sklearn"
   ]
  },
  {
   "cell_type": "code",
   "execution_count": 1,
   "metadata": {},
   "outputs": [],
   "source": [
    "from IPython.display import Image\n",
    "%matplotlib inline"
   ]
  },
  {
   "cell_type": "markdown",
   "metadata": {},
   "source": [
    "###  加载数据集"
   ]
  },
  {
   "cell_type": "markdown",
   "metadata": {},
   "source": [
    "使用银行营销数据集，这些数据共包括16个特征，输出标签有2个（“是”、“否”），即客户是否已订阅定期存款。我们将采用其中的三个特征“年龄”、“年平均余额”以及“该月与该客户最后一次联系的日期”对客户是否订阅定期存款来进行预测。\n",
    "\n",
    "**属性信息:**\n",
    "\n",
    "<p> 银行客户数据：</p>\n",
    "    \n",
    "- age 年龄（数字）\n",
    "- job 职务：职务类型（类别：“管理员”，“蓝领”，“企业家”，“女佣”，“管理”，“退休” ，“自雇”，“服务”，“学生”，“技术员”，“待业”，“未知”）\n",
    "- marital 婚姻：婚姻状况（类别：“已婚”，“离婚”，“单身”，“未知”）\n",
    "- education 教育（类别：\"未知\", \"中学\", \"小学\", \"高等教育\"）\n",
    "- default 违约：信用违约吗？（类别：“否”，”是'）\n",
    "- balance 收支：年平均余额\n",
    "- housing 住房：有住房贷款吗？（分类：“否”，“是”）\n",
    "- loan 贷款：有个人贷款吗？（类别：“否”，“是”）\n",
    "\n",
    "<p>与当前广告系列的最后一次接触相关的：</p>\n",
    "\n",
    "- contact 联系人：联系人通讯类型（类别：“未知”，“蜂窝网络”，“电话”）\n",
    "- day 日期：这个月最后一次联系的日期\n",
    "- month 月分：一年中的最后联系人月份（类别：“ jan”，“ feb”，“ mar'，...，'nov'，'dec'）\n",
    "- duration 持续时间：最后一次接触持续时间，以秒为单位（数字）重要说明：此属性会极大影响输出目标（例如，如果duration = 0，则y ='no'）。然而，在执行呼叫之前，持续时间是未知的。同样，在通话结束后，y显然是已知的。从而，此输入仅应出于基准目的而包括在内，如果要使用一个现实的预测模型，则应将其丢弃。\n",
    "    \n",
    "<p> 其他属性：</p>\n",
    "\n",
    "- campaign 广告活动：在该广告活动期间和该客户执行的联系数量（数字，包括最后联系人）\n",
    "- pdays：从上一次广告活动最后一次联系客户以来经过的天数（数字； 999表示客户不是先接触）\n",
    "- precious 以前的：这次活动之前，与该客户进行接触次数\n",
    "- poutcome 上一次市场活动的结果：以前的营销活动（分类的结果：“失败”，“成功”，“未知”，“其他”）\n",
    "\n",
    "\n",
    "**输出类别信息:**\n",
    "- 客户是否已订阅定期存款？（二进制：“是”，“否”）"
   ]
  },
  {
   "cell_type": "code",
   "execution_count": 1,
   "metadata": {},
   "outputs": [
    {
     "data": {
      "text/plain": "   age          job  marital  education default  balance housing loan  \\\n0   30   unemployed  married    primary      no     1787      no   no   \n1   33     services  married  secondary      no     4789     yes  yes   \n2   35   management   single   tertiary      no     1350     yes   no   \n3   30   management  married   tertiary      no     1476     yes  yes   \n4   59  blue-collar  married  secondary      no        0     yes   no   \n\n    contact  day month  duration  campaign  pdays  previous poutcome   y  \n0  cellular   19   oct        79         1     -1         0  unknown  no  \n1  cellular   11   may       220         1    339         4  failure  no  \n2  cellular   16   apr       185         1    330         1  failure  no  \n3   unknown    3   jun       199         4     -1         0  unknown  no  \n4   unknown    5   may       226         1     -1         0  unknown  no  ",
      "text/html": "<div>\n<style scoped>\n    .dataframe tbody tr th:only-of-type {\n        vertical-align: middle;\n    }\n\n    .dataframe tbody tr th {\n        vertical-align: top;\n    }\n\n    .dataframe thead th {\n        text-align: right;\n    }\n</style>\n<table border=\"1\" class=\"dataframe\">\n  <thead>\n    <tr style=\"text-align: right;\">\n      <th></th>\n      <th>age</th>\n      <th>job</th>\n      <th>marital</th>\n      <th>education</th>\n      <th>default</th>\n      <th>balance</th>\n      <th>housing</th>\n      <th>loan</th>\n      <th>contact</th>\n      <th>day</th>\n      <th>month</th>\n      <th>duration</th>\n      <th>campaign</th>\n      <th>pdays</th>\n      <th>previous</th>\n      <th>poutcome</th>\n      <th>y</th>\n    </tr>\n  </thead>\n  <tbody>\n    <tr>\n      <th>0</th>\n      <td>30</td>\n      <td>unemployed</td>\n      <td>married</td>\n      <td>primary</td>\n      <td>no</td>\n      <td>1787</td>\n      <td>no</td>\n      <td>no</td>\n      <td>cellular</td>\n      <td>19</td>\n      <td>oct</td>\n      <td>79</td>\n      <td>1</td>\n      <td>-1</td>\n      <td>0</td>\n      <td>unknown</td>\n      <td>no</td>\n    </tr>\n    <tr>\n      <th>1</th>\n      <td>33</td>\n      <td>services</td>\n      <td>married</td>\n      <td>secondary</td>\n      <td>no</td>\n      <td>4789</td>\n      <td>yes</td>\n      <td>yes</td>\n      <td>cellular</td>\n      <td>11</td>\n      <td>may</td>\n      <td>220</td>\n      <td>1</td>\n      <td>339</td>\n      <td>4</td>\n      <td>failure</td>\n      <td>no</td>\n    </tr>\n    <tr>\n      <th>2</th>\n      <td>35</td>\n      <td>management</td>\n      <td>single</td>\n      <td>tertiary</td>\n      <td>no</td>\n      <td>1350</td>\n      <td>yes</td>\n      <td>no</td>\n      <td>cellular</td>\n      <td>16</td>\n      <td>apr</td>\n      <td>185</td>\n      <td>1</td>\n      <td>330</td>\n      <td>1</td>\n      <td>failure</td>\n      <td>no</td>\n    </tr>\n    <tr>\n      <th>3</th>\n      <td>30</td>\n      <td>management</td>\n      <td>married</td>\n      <td>tertiary</td>\n      <td>no</td>\n      <td>1476</td>\n      <td>yes</td>\n      <td>yes</td>\n      <td>unknown</td>\n      <td>3</td>\n      <td>jun</td>\n      <td>199</td>\n      <td>4</td>\n      <td>-1</td>\n      <td>0</td>\n      <td>unknown</td>\n      <td>no</td>\n    </tr>\n    <tr>\n      <th>4</th>\n      <td>59</td>\n      <td>blue-collar</td>\n      <td>married</td>\n      <td>secondary</td>\n      <td>no</td>\n      <td>0</td>\n      <td>yes</td>\n      <td>no</td>\n      <td>unknown</td>\n      <td>5</td>\n      <td>may</td>\n      <td>226</td>\n      <td>1</td>\n      <td>-1</td>\n      <td>0</td>\n      <td>unknown</td>\n      <td>no</td>\n    </tr>\n  </tbody>\n</table>\n</div>"
     },
     "execution_count": 1,
     "metadata": {},
     "output_type": "execute_result"
    }
   ],
   "source": [
    "from sklearn import datasets\n",
    "import numpy as np\n",
    "import pandas as pd\n",
    "\n",
    "bm = pd.read_csv('./bank/bank.txt',sep=';')\n",
    "\n",
    "\n",
    "X = bm[['age','balance','day']].values[:200,:]\n",
    "y = bm['y'].values[:200]\n",
    "\n",
    "bm.head()"
   ]
  },
  {
   "cell_type": "markdown",
   "metadata": {},
   "source": [
    "将数据集划为70%作为训练集，30%划分为测试集。"
   ]
  },
  {
   "cell_type": "code",
   "execution_count": 2,
   "metadata": {},
   "outputs": [],
   "source": [
    "from sklearn.model_selection import train_test_split\n",
    "\n",
    "X_train, X_test, y_train, y_test = train_test_split(\n",
    "    X, y, test_size=0.3, random_state=1, stratify=y)"
   ]
  },
  {
   "cell_type": "markdown",
   "metadata": {},
   "source": [
    "### 使用scikit-learn训练一个决策树"
   ]
  },
  {
   "cell_type": "code",
   "execution_count": 3,
   "metadata": {},
   "outputs": [
    {
     "data": {
      "text/plain": "DecisionTreeClassifier(max_depth=4, random_state=1)"
     },
     "execution_count": 3,
     "metadata": {},
     "output_type": "execute_result"
    }
   ],
   "source": [
    "from sklearn.tree import DecisionTreeClassifier\n",
    "\n",
    "# 采用gini系数进行度量，树的最大深度设置为4\n",
    "tree = DecisionTreeClassifier(criterion='gini', \n",
    "                              max_depth=4, \n",
    "                              random_state=1)\n",
    "# 训练\n",
    "tree.fit(X_train, y_train)"
   ]
  },
  {
   "cell_type": "markdown",
   "source": [],
   "metadata": {
    "collapsed": false
   }
  },
  {
   "cell_type": "markdown",
   "source": [
    "# DecisionTreeClassifier()函数参数\n",
    "class sklearn.tree.DecisionTreeClassifier(criterion=’gini’, splitter=’best’, max_depth=None, min_samples_split=2, min_samples_leaf=1, min_weight_fraction_leaf=0.0, max_features=None, random_state=None, max_leaf_nodes=None, min_impurity_decrease=0.0, min_impurity_split=None, class_weight=None, presort=False)\n",
    "\n",
    "criterion：默认gini，即CART算法。\n",
    "\n",
    "max_depth：决策树最大深度，默认值是‘None’。一般数据比较少或者特征少的时候可以不用管这个值，如果模型样本数量多，特征也多时，推荐限制这个最大深度，具体取值取决于数据的分布。常用的可以取值10-100之间，常用来解决过拟合。\n",
    "\n",
    "random_state：是用来设置决策树分枝中随机模式的参数，在高维度时sklearn决策树的特征随机性会很明显，低维度的数据（比如鸢尾花数据集），随机性几乎不会显现。高维数据下我们设置random_state并配合splitter参数可以让模型稳定下来，保证同一数据集下是决策树结果可以多次复现，便于模型参数优化。\n"
   ],
   "metadata": {
    "collapsed": false
   }
  },
  {
   "cell_type": "markdown",
   "metadata": {},
   "source": [
    "对test中的样本进行测试："
   ]
  },
  {
   "cell_type": "code",
   "execution_count": 4,
   "metadata": {},
   "outputs": [
    {
     "name": "stdout",
     "output_type": "stream",
     "text": [
      "[[ 39 501  26]\n",
      " [ 28  80  20]\n",
      " [ 37   0  26]]\n",
      "['no' 'no' 'no']\n"
     ]
    }
   ],
   "source": [
    "test_sample = X_test[:3,:]\n",
    "print(test_sample)\n",
    "pre_sample = tree.predict(test_sample)\n",
    "print(pre_sample)"
   ]
  },
  {
   "cell_type": "markdown",
   "metadata": {},
   "source": [
    "### 模型准确率："
   ]
  },
  {
   "cell_type": "code",
   "execution_count": 5,
   "metadata": {},
   "outputs": [
    {
     "name": "stdout",
     "output_type": "stream",
     "text": [
      "training accuracy: 0.907\n",
      "testing accuracy: 0.817\n"
     ]
    }
   ],
   "source": [
    "from sklearn.metrics import accuracy_score\n",
    "y_train_pre = tree.predict(X_train)\n",
    "y_test_pre = tree.predict(X_test)\n",
    "print(\"training accuracy: %.3f\"%accuracy_score(y_train_pre, y_train))\n",
    "print(\"testing accuracy: %.3f\"%accuracy_score(y_test_pre, y_test))"
   ]
  },
  {
   "cell_type": "markdown",
   "metadata": {},
   "source": [
    "**使用Graphviz库进行对决策树进行可视化：**\n",
    "<p>scikit-learn允许将训练后得到的决策树导出为.dot格式的文件，这使得我们可以使用GraphViz程序进行可视化处理。</p>"
   ]
  },
  {
   "cell_type": "code",
   "execution_count": 13,
   "metadata": {},
   "outputs": [
    {
     "data": {
      "text/plain": "True"
     },
     "execution_count": 13,
     "metadata": {},
     "output_type": "execute_result"
    }
   ],
   "source": [
    "from pydotplus import graph_from_dot_data\n",
    "from sklearn.tree import export_graphviz\n",
    "\n",
    "# 生成.dot文件\n",
    "dot_data = export_graphviz(tree,\n",
    "                           filled=True, \n",
    "                           rounded=True,\n",
    "                           class_names=['yes', \n",
    "                                        'no',],\n",
    "                           feature_names=['年龄', \n",
    "                                          '收支',\n",
    "                                          '联系日期'],\n",
    "                           out_file=None) \n",
    "# export_graphviz(tree, out_file='tree.dot',feature_names=['age','balance','duration'])\n",
    "# 将.dot文件存为图像文件\n",
    "graph = graph_from_dot_data(dot_data) \n",
    "# 将图像文件写入\n",
    "graph.write_png('tree.png')\n"
   ]
  },
  {
   "cell_type": "code",
   "execution_count": 15,
   "outputs": [
    {
     "ename": "NameError",
     "evalue": "name 'Image' is not defined",
     "output_type": "error",
     "traceback": [
      "\u001B[1;31m---------------------------------------------------------------------------\u001B[0m",
      "\u001B[1;31mNameError\u001B[0m                                 Traceback (most recent call last)",
      "Input \u001B[1;32mIn [15]\u001B[0m, in \u001B[0;36m<cell line: 1>\u001B[1;34m()\u001B[0m\n\u001B[1;32m----> 1\u001B[0m \u001B[43mImage\u001B[49m(filename\u001B[38;5;241m=\u001B[39m\u001B[38;5;124m'\u001B[39m\u001B[38;5;124mtree.png\u001B[39m\u001B[38;5;124m'\u001B[39m)\n",
      "\u001B[1;31mNameError\u001B[0m: name 'Image' is not defined"
     ]
    }
   ],
   "source": [
    "# Image(filename='tree.png')"
   ],
   "metadata": {
    "collapsed": false
   }
  },
  {
   "cell_type": "code",
   "execution_count": 17,
   "outputs": [
    {
     "ename": "ModuleNotFoundError",
     "evalue": "No module named 'Ipython'",
     "output_type": "error",
     "traceback": [
      "\u001B[1;31m---------------------------------------------------------------------------\u001B[0m",
      "\u001B[1;31mModuleNotFoundError\u001B[0m                       Traceback (most recent call last)",
      "Input \u001B[1;32mIn [17]\u001B[0m, in \u001B[0;36m<cell line: 1>\u001B[1;34m()\u001B[0m\n\u001B[1;32m----> 1\u001B[0m \u001B[38;5;28;01mfrom\u001B[39;00m \u001B[38;5;21;01mIpython\u001B[39;00m \u001B[38;5;28;01mimport\u001B[39;00m display\n\u001B[0;32m      2\u001B[0m display\u001B[38;5;241m.\u001B[39mImage(filename\u001B[38;5;241m=\u001B[39m\u001B[38;5;124m'\u001B[39m\u001B[38;5;124mtree.png\u001B[39m\u001B[38;5;124m'\u001B[39m,width\u001B[38;5;241m=\u001B[39m\u001B[38;5;241m600\u001B[39m)\n",
      "\u001B[1;31mModuleNotFoundError\u001B[0m: No module named 'Ipython'"
     ]
    }
   ],
   "source": [
    "from Ipython import display\n",
    "display.Image(filename='tree.png',width=600)\n"
   ],
   "metadata": {
    "collapsed": false
   }
  },
  {
   "cell_type": "code",
   "execution_count": 18,
   "outputs": [
    {
     "ename": "error",
     "evalue": "OpenCV(4.6.0) D:\\a\\opencv-python\\opencv-python\\opencv\\modules\\imgproc\\src\\color.cpp:182: error: (-215:Assertion failed) !_src.empty() in function 'cv::cvtColor'\n",
     "output_type": "error",
     "traceback": [
      "\u001B[1;31m---------------------------------------------------------------------------\u001B[0m",
      "\u001B[1;31merror\u001B[0m                                     Traceback (most recent call last)",
      "Input \u001B[1;32mIn [18]\u001B[0m, in \u001B[0;36m<cell line: 8>\u001B[1;34m()\u001B[0m\n\u001B[0;32m      5\u001B[0m img \u001B[38;5;241m=\u001B[39m cv2\u001B[38;5;241m.\u001B[39mimread(\u001B[38;5;124m\"\u001B[39m\u001B[38;5;124mD:\u001B[39m\u001B[38;5;130;01m\\202\u001B[39;00m\u001B[38;5;124m2秋冬\u001B[39m\u001B[38;5;124m\\\u001B[39m\u001B[38;5;124m前沿数学专题讨论\u001B[39m\u001B[38;5;130;01m\\t\u001B[39;00m\u001B[38;5;124mree.png\u001B[39m\u001B[38;5;124m\"\u001B[39m)\u001B[38;5;66;03m#读取的是bgr格式\u001B[39;00m\n\u001B[0;32m      6\u001B[0m \u001B[38;5;66;03m# img = cv2.imdecode(np.fromfile(img_path,dtype=np.uint8),-1) #读取带中文图片\u001B[39;00m\n\u001B[0;32m      7\u001B[0m \u001B[38;5;66;03m# print(img.shape)\u001B[39;00m\n\u001B[1;32m----> 8\u001B[0m img \u001B[38;5;241m=\u001B[39m \u001B[43mcv2\u001B[49m\u001B[38;5;241;43m.\u001B[39;49m\u001B[43mcvtColor\u001B[49m\u001B[43m(\u001B[49m\u001B[43mimg\u001B[49m\u001B[43m,\u001B[49m\u001B[43m \u001B[49m\u001B[43mcv2\u001B[49m\u001B[38;5;241;43m.\u001B[39;49m\u001B[43mCOLOR_BGR2RGB\u001B[49m\u001B[43m)\u001B[49m\n\u001B[0;32m      9\u001B[0m plt\u001B[38;5;241m.\u001B[39mimshow(img)\n\u001B[0;32m     10\u001B[0m plt\u001B[38;5;241m.\u001B[39mshow()\n",
      "\u001B[1;31merror\u001B[0m: OpenCV(4.6.0) D:\\a\\opencv-python\\opencv-python\\opencv\\modules\\imgproc\\src\\color.cpp:182: error: (-215:Assertion failed) !_src.empty() in function 'cv::cvtColor'\n"
     ]
    }
   ],
   "source": [
    "import cv2\n",
    "import numpy as np\n",
    "import matplotlib.pyplot as plt\n",
    "\n",
    "img = cv2.imread(\"D:\\2022秋冬\\前沿数学专题讨论\\tree.png\")#读取的是bgr格式\n",
    "# img = cv2.imdecode(np.fromfile(img_path,dtype=np.uint8),-1) #读取带中文图片\n",
    "# print(img.shape)\n",
    "img = cv2.cvtColor(img, cv2.COLOR_BGR2RGB)\n",
    "plt.imshow(img)\n",
    "plt.show()\n"
   ],
   "metadata": {
    "collapsed": false
   }
  },
  {
   "cell_type": "code",
   "execution_count": null,
   "outputs": [],
   "source": [],
   "metadata": {
    "collapsed": false
   }
  }
 ],
 "metadata": {
  "anaconda-cloud": {},
  "kernelspec": {
   "display_name": "Python 3",
   "language": "python",
   "name": "python3"
  },
  "language_info": {
   "codemirror_mode": {
    "name": "ipython",
    "version": 3
   },
   "file_extension": ".py",
   "mimetype": "text/x-python",
   "name": "python",
   "nbconvert_exporter": "python",
   "pygments_lexer": "ipython3",
   "version": "3.8.3"
  }
 },
 "nbformat": 4,
 "nbformat_minor": 1
}
